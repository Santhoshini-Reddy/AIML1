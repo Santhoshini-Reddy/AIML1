{
  "nbformat": 4,
  "nbformat_minor": 0,
  "metadata": {
    "colab": {
      "provenance": [],
      "authorship_tag": "ABX9TyPeUVKOGB7mHztmmRVFVZE2",
      "include_colab_link": true
    },
    "kernelspec": {
      "name": "python3",
      "display_name": "Python 3"
    },
    "language_info": {
      "name": "python"
    }
  },
  "cells": [
    {
      "cell_type": "markdown",
      "metadata": {
        "id": "view-in-github",
        "colab_type": "text"
      },
      "source": [
        "<a href=\"https://colab.research.google.com/github/Santhoshini-Reddy/AIML1/blob/main/AIML8.ipynb\" target=\"_parent\"><img src=\"https://colab.research.google.com/assets/colab-badge.svg\" alt=\"Open In Colab\"/></a>"
      ]
    },
    {
      "cell_type": "code",
      "execution_count": null,
      "metadata": {
        "id": "LFT44TEDn0Ii"
      },
      "outputs": [],
      "source": [
        "import  numpy as np\n",
        "import pandas as ps\n",
        "import seaborn as sns\n",
        "import sklearn\n",
        "import matplotlib.pyplot as plt\n",
        "%matplotlib inline\n",
        "\n"
      ]
    },
    {
      "cell_type": "code",
      "source": [
        "from  sklearn.datasets import fetch_openml\n",
        "car_data = fetch_openml(name = 'car',version = 2,parser = 'auto')\n"
      ],
      "metadata": {
        "id": "Efd73-cvooTc"
      },
      "execution_count": null,
      "outputs": []
    },
    {
      "cell_type": "code",
      "source": [
        "type(car_data)\n"
      ],
      "metadata": {
        "id": "-9FcJXBeoq1U"
      },
      "execution_count": null,
      "outputs": []
    },
    {
      "cell_type": "code",
      "source": [
        "car_data.details"
      ],
      "metadata": {
        "id": "8EHHGkkiotu3"
      },
      "execution_count": null,
      "outputs": []
    },
    {
      "cell_type": "code",
      "source": [
        "car_data.details['version']\n"
      ],
      "metadata": {
        "id": "XRAMfTnxow_J"
      },
      "execution_count": null,
      "outputs": []
    },
    {
      "cell_type": "code",
      "source": [
        "print(car_data.DESCR)"
      ],
      "metadata": {
        "id": "bnQGG0rmo0UN"
      },
      "execution_count": null,
      "outputs": []
    },
    {
      "cell_type": "code",
      "source": [
        "car_data.feature_names"
      ],
      "metadata": {
        "id": "a7RYaxZlo4NV"
      },
      "execution_count": null,
      "outputs": []
    },
    {
      "cell_type": "code",
      "source": [
        "car_data = car_data.frame\n",
        "car_data.head()\n"
      ],
      "metadata": {
        "id": "vYng6qsBo9si"
      },
      "execution_count": null,
      "outputs": []
    },
    {
      "cell_type": "code",
      "source": [
        "type(car_data)"
      ],
      "metadata": {
        "id": "bbmYt2WhpA0p"
      },
      "execution_count": null,
      "outputs": []
    },
    {
      "cell_type": "code",
      "source": [
        "from sklearn.model_selection import train_test_split\n",
        "train_data,test_data = train_test_split(car_data, test_size=0.3, random_state=20)\n",
        "print('The size of training data is: {}\\nThe size of testing data is:{}'.format(len(train_data), len(test_data)))\n",
        "\n"
      ],
      "metadata": {
        "id": "yW-HPEZ-pDwD"
      },
      "execution_count": null,
      "outputs": []
    },
    {
      "cell_type": "code",
      "source": [
        "train_data.describe()"
      ],
      "metadata": {
        "id": "GHYUbUzIpGkk"
      },
      "execution_count": null,
      "outputs": []
    },
    {
      "cell_type": "code",
      "source": [
        "train_data.isnull().sum()"
      ],
      "metadata": {
        "id": "u4WCS4qUpJaW"
      },
      "execution_count": null,
      "outputs": []
    },
    {
      "cell_type": "code",
      "source": [
        "train_data['buying'].value_counts()"
      ],
      "metadata": {
        "id": "mVmMqa5mpL7y"
      },
      "execution_count": null,
      "outputs": []
    },
    {
      "cell_type": "code",
      "source": [
        "train_data['maint'].value_counts()"
      ],
      "metadata": {
        "id": "T7otG1IBpNDE"
      },
      "execution_count": null,
      "outputs": []
    },
    {
      "cell_type": "code",
      "source": [
        "train_data['doors'].value_counts()"
      ],
      "metadata": {
        "id": "P4i3WIi0pQdp"
      },
      "execution_count": null,
      "outputs": []
    },
    {
      "cell_type": "code",
      "source": [
        "train_data['persons'].value_counts()"
      ],
      "metadata": {
        "id": "8K3GKLsGpU0f"
      },
      "execution_count": null,
      "outputs": []
    },
    {
      "cell_type": "code",
      "source": [
        "plt.figure(figsize=(15,10))\n",
        "sns.countplot(data=train_data,x='buying')"
      ],
      "metadata": {
        "id": "Jh-WcR9hpXTl"
      },
      "execution_count": null,
      "outputs": []
    },
    {
      "cell_type": "code",
      "source": [
        "plt.figure(figsize=(15,10))\n",
        "sns.countplot(data=train_data,x='buying',hue='binaryClass')"
      ],
      "metadata": {
        "id": "D4YQK_oFpcCm"
      },
      "execution_count": null,
      "outputs": []
    },
    {
      "cell_type": "code",
      "source": [
        "train_data['maint'].value_counts()"
      ],
      "metadata": {
        "id": "ec1_nE5Jpeu_"
      },
      "execution_count": null,
      "outputs": []
    },
    {
      "cell_type": "code",
      "source": [
        "plt.figure(figsize=(15,10))\n",
        "sns.countplot(data=train_data,x='maint')"
      ],
      "metadata": {
        "id": "FaHWMVUgphkd"
      },
      "execution_count": null,
      "outputs": []
    },
    {
      "cell_type": "code",
      "source": [
        "plt .figure(figsize=(15,10))\n",
        "sns.countplot(data=train_data,x='maint',hue='binaryClass')"
      ],
      "metadata": {
        "id": "5_nUk2t8pkES"
      },
      "execution_count": null,
      "outputs": []
    },
    {
      "cell_type": "code",
      "source": [
        "plt .figure(figsize=(15,10))\n",
        "sns.countplot(data=train_data,x='maint',hue='binaryClass')"
      ],
      "metadata": {
        "id": "zdR0Bbkapn_1"
      },
      "execution_count": null,
      "outputs": []
    },
    {
      "cell_type": "code",
      "source": [
        "plt.figure(figsize=(15,10))\n",
        "sns.countplot(data=train_data,x='doors')"
      ],
      "metadata": {
        "id": "8lj96WeYpwnt"
      },
      "execution_count": null,
      "outputs": []
    },
    {
      "cell_type": "code",
      "source": [
        "plt.figure(figsize=(15,10))\n",
        "sns.countplot(data=train_data,x='doors',hue='binaryClass')"
      ],
      "metadata": {
        "id": "lVgpmLtMpz3K"
      },
      "execution_count": null,
      "outputs": []
    },
    {
      "cell_type": "code",
      "source": [
        "train_data['persons'].value_counts()"
      ],
      "metadata": {
        "id": "R9dXX9ntp2tW"
      },
      "execution_count": null,
      "outputs": []
    },
    {
      "cell_type": "code",
      "source": [
        "plt.figure(figsize=(15,10))\n",
        "sns.countplot(data=train_data,x='persons',hue='binaryClass')"
      ],
      "metadata": {
        "id": "IA_25hmbp5lc"
      },
      "execution_count": null,
      "outputs": []
    },
    {
      "cell_type": "code",
      "source": [
        "train_data['lug_boot'].value_counts()\n",
        "\n"
      ],
      "metadata": {
        "id": "u6l_TOl6p-VG"
      },
      "execution_count": null,
      "outputs": []
    },
    {
      "cell_type": "code",
      "source": [
        "plt.figure(figsize=(15,10))\n",
        "sns.countplot(data=train_data,x='lug_boot',hue='binaryClass')"
      ],
      "metadata": {
        "id": "wvh_j7IRp-Od"
      },
      "execution_count": null,
      "outputs": []
    },
    {
      "cell_type": "code",
      "source": [
        "train_data['safety'].value_counts()"
      ],
      "metadata": {
        "id": "LiKg-hXDqC2G"
      },
      "execution_count": null,
      "outputs": []
    },
    {
      "cell_type": "code",
      "source": [
        "plt.figure(figsize=(15,10))\n",
        "sns.countplot(data=train_data,x='safety',hue='binaryClass')"
      ],
      "metadata": {
        "id": "gTaM51SBqCy4"
      },
      "execution_count": null,
      "outputs": []
    },
    {
      "cell_type": "code",
      "source": [
        "train_data['binaryClass'].value_counts()"
      ],
      "metadata": {
        "id": "-9pPdblwqCwA"
      },
      "execution_count": null,
      "outputs": []
    },
    {
      "cell_type": "code",
      "source": [
        "plt.figure(figsize=(15,10))\n",
        "sns.countplot(data=train_data,x='binaryClass')"
      ],
      "metadata": {
        "id": "hMzYyy7vqCoW"
      },
      "execution_count": null,
      "outputs": []
    },
    {
      "cell_type": "code",
      "source": [
        "car_train = train_data.drop('binaryClass',axis=1)\n",
        "car_labels = train_data[['binaryClass']]\n"
      ],
      "metadata": {
        "id": "SHEEAlsZqCcY"
      },
      "execution_count": null,
      "outputs": []
    },
    {
      "cell_type": "code",
      "source": [
        "from sklearn.preprocessing import OrdinalEncoder\n",
        "from sklearn.pipeline import Pipeline\n",
        "pipe = Pipeline([('ord_enc', OrdinalEncoder())])\n",
        "car_train_prepared = pipe.fit_transform(car_train)\n",
        "\n"
      ],
      "metadata": {
        "id": "hw4NZxjgqCQH"
      },
      "execution_count": null,
      "outputs": []
    },
    {
      "cell_type": "code",
      "source": [
        "from sklearn.preprocessing import LabelEncoder\n",
        "label_enc = LabelEncoder()\n",
        "car_labels_prepared = label_enc.fit_transform(car_labels)\n"
      ],
      "metadata": {
        "id": "8bmgLQoDqCCj"
      },
      "execution_count": null,
      "outputs": []
    },
    {
      "cell_type": "code",
      "source": [
        "from sklearn.tree import DecisionTreeClassifier\n",
        "tree_clf = DecisionTreeClassifier()\n",
        "tree_clf.fit(car_train_prepared,car_labels_prepared)"
      ],
      "metadata": {
        "id": "9DkC4ovdqVx8"
      },
      "execution_count": null,
      "outputs": []
    },
    {
      "cell_type": "code",
      "source": [
        "from sklearn import tree\n",
        "text_representation = tree.export_text(tree_clf)\n",
        "print(text_representation)\n"
      ],
      "metadata": {
        "id": "Vy8dFWzvqVfq"
      },
      "execution_count": null,
      "outputs": []
    },
    {
      "cell_type": "code",
      "source": [
        "from sklearn.metrics import  accuracy_score\n",
        "def accuracy  (input_data,model,labels):\n",
        "  preds = model.predict(input_data)\n",
        "    accc = accuracy_score(preds,labels)\n",
        "      return accc"
      ],
      "metadata": {
        "id": "yNIx7xpaqVXi"
      },
      "execution_count": null,
      "outputs": []
    },
    {
      "cell_type": "code",
      "source": [
        "from sklearn.metrics import confusion_matrix\n",
        "def conf_matrix(input_data,model,labels):\n",
        "  preds = model.predict(input_data)\n",
        "    cm = confusion_matrix(labels,preds)\n",
        "      return cm"
      ],
      "metadata": {
        "id": "lGrs7rpjqVM6"
      },
      "execution_count": null,
      "outputs": []
    },
    {
      "cell_type": "code",
      "source": [
        "from sklearn.metrics import classification_report\n",
        "def class_report(input_data,model,labels):\n",
        "  preds = model.predict(input_data)\n",
        "    report = classification_report(labels,preds)\n",
        "      report = print(report)\n",
        "        return report"
      ],
      "metadata": {
        "id": "y7ERfiPfqjVH"
      },
      "execution_count": null,
      "outputs": []
    }
  ]
}