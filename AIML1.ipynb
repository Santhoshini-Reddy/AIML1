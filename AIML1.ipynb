{
  "nbformat": 4,
  "nbformat_minor": 0,
  "metadata": {
    "colab": {
      "provenance": [],
      "authorship_tag": "ABX9TyPGfyvxT8dXzEy7P5CZMM3O",
      "include_colab_link": true
    },
    "kernelspec": {
      "name": "python3",
      "display_name": "Python 3"
    },
    "language_info": {
      "name": "python"
    }
  },
  "cells": [
    {
      "cell_type": "markdown",
      "metadata": {
        "id": "view-in-github",
        "colab_type": "text"
      },
      "source": [
        "<a href=\"https://colab.research.google.com/github/Santhoshini-Reddy/AIML1/blob/main/AIML1.ipynb\" target=\"_parent\"><img src=\"https://colab.research.google.com/assets/colab-badge.svg\" alt=\"Open In Colab\"/></a>"
      ]
    },
    {
      "cell_type": "code",
      "execution_count": null,
      "metadata": {
        "id": "1SnHadoUWny_"
      },
      "outputs": [],
      "source": [
        "import numpy as np\n",
        "list1=[1,2,3]\n",
        "array1=np.array(list1)\n",
        "array1"
      ]
    },
    {
      "cell_type": "code",
      "source": [
        "type(list1)"
      ],
      "metadata": {
        "id": "FskH4xYQWrK0"
      },
      "execution_count": null,
      "outputs": []
    },
    {
      "cell_type": "code",
      "source": [
        "type(array1)"
      ],
      "metadata": {
        "id": "ogJF9eBdWtJ9"
      },
      "execution_count": null,
      "outputs": []
    },
    {
      "cell_type": "code",
      "source": [
        "list2=[3,2,1]\n",
        "array2=np.array(list2)\n",
        "array2"
      ],
      "metadata": {
        "id": "Onu2Uve-Wxac"
      },
      "execution_count": null,
      "outputs": []
    },
    {
      "cell_type": "code",
      "source": [
        "print(\"array2 multiplied by array1:\",array1*array2)\n",
        "print(\"array2 divided by array1:\",array2/array1)\n",
        "print(\"array2 raised to the power of array1:\",array2**array1)\n",
        "print(f\"{array2} raised to the power of {array1}:,{array2**array1}\")"
      ],
      "metadata": {
        "id": "3owlo3xUW0pU"
      },
      "execution_count": null,
      "outputs": []
    },
    {
      "cell_type": "code",
      "source": [
        "print(\"sine:\",np.sin(array1))\n",
        "print(\"Natural logarithm:\",np.log(array1))\n",
        "print(\"Base-10 logarithm:\",np.log10(array1))\n",
        "print(\"Base-2 logarithm:\",np.log2(array1))\n",
        "print(\"Exponential:\",np.exp(array1))"
      ],
      "metadata": {
        "id": "5FzFHWbiW3MJ"
      },
      "execution_count": null,
      "outputs": []
    },
    {
      "cell_type": "code",
      "source": [
        "print(\"Adding two numpay array {array1}and{array2} together:\",array1+array2)"
      ],
      "metadata": {
        "id": "B6p1V1HLW8Q_"
      },
      "execution_count": null,
      "outputs": []
    },
    {
      "cell_type": "code",
      "source": [
        "print(f\"Adding two numpy arrays {array1}and {array2} together:\",array1+array2)"
      ],
      "metadata": {
        "id": "BL_6WZPcXAFF"
      },
      "execution_count": null,
      "outputs": []
    },
    {
      "cell_type": "code",
      "source": [
        "print(\"substracting two numpy arrays {array1} and {array2} together:\",array1-array2)"
      ],
      "metadata": {
        "id": "p2_pMq9eXC7-"
      },
      "execution_count": null,
      "outputs": []
    },
    {
      "cell_type": "code",
      "source": [
        "people=['Ann','Brandon','chen','emily','farook','gagan','hamish','imran','jyo','ammu','lily']\n",
        "age=[21,22,12,32,45,37,18,28,53,5,40]\n",
        "weight=[22,33,44,55,66,77,88,99,12,23,45]\n",
        "height=[199,188,177,166,155,144,133,122,111,988,776]"
      ],
      "metadata": {
        "id": "TE1hcx1TXFym"
      },
      "execution_count": null,
      "outputs": []
    },
    {
      "cell_type": "code",
      "source": [
        "import matplotlib.pyplot as plt\n"
      ],
      "metadata": {
        "id": "lT7T0P_YXIXf"
      },
      "execution_count": null,
      "outputs": []
    },
    {
      "cell_type": "code",
      "source": [
        "plt.scatter(weight,height)\n",
        "plt.title(\"Relationship between weight and height of patients\")\n",
        "plt.ylabel(\"height in meters\")\n",
        "plt.xlabel(\"weight of patient in kgs\")\n",
        "plt.show()"
      ],
      "metadata": {
        "id": "oCV9xj3aXKhD"
      },
      "execution_count": null,
      "outputs": []
    },
    {
      "cell_type": "code",
      "source": [
        "plt.figure(figsize=(12,4))\n",
        "plt.title(\"peoples weight in kgs\",fontsize=16,fontstyle='italic')\n",
        "#main plot function 'bar'\n",
        "plt.bar( x=people, height=weight, width=0.6, color='black', edgecolor='k',  alpha=0.6)\n",
        "plt.xlabel(\"peoples\",fontsize=15)\n",
        "plt.ylabel(\"weight( in kgs)\",fontsize=15)\n",
        "plt.show()"
      ],
      "metadata": {
        "id": "0vWBbcx5XL_p"
      },
      "execution_count": null,
      "outputs": []
    },
    {
      "cell_type": "code",
      "source": [
        "import numpy as np\n",
        "plt.figure(figsize=(7,5))\n",
        "plt.hist(weight,color='black',edgecolor='k',alpha=0.75,bins=5)\n",
        "plt.title(\"Histogram of patient weight\",fontsize=18)\n",
        "plt.xlabel(\"weight in kgs\",fontsize=15)\n",
        "plt.show()\n"
      ],
      "metadata": {
        "id": "xVnTIKsiXQNR"
      },
      "execution_count": null,
      "outputs": []
    },
    {
      "cell_type": "code",
      "source": [
        "import numpy as np\n",
        "import pandas as pd"
      ],
      "metadata": {
        "id": "OyyBNQ8hXTaS"
      },
      "execution_count": null,
      "outputs": []
    },
    {
      "cell_type": "code",
      "source": [
        "from google.colab import drive\n",
        "drive.mount('/content/drive')"
      ],
      "metadata": {
        "id": "-zrvz-DFXYBc"
      },
      "execution_count": null,
      "outputs": []
    },
    {
      "cell_type": "code",
      "source": [
        "df1=pd.read_table(\"/content/pp.txt\")"
      ],
      "metadata": {
        "id": "6_pprGnKXaaX"
      },
      "execution_count": null,
      "outputs": []
    },
    {
      "cell_type": "code",
      "source": [
        "df2=pd.read_csv(\"/content/drive/MyDrive/Spd.csv\")"
      ],
      "metadata": {
        "id": "8-zWnqSsXeVh"
      },
      "execution_count": null,
      "outputs": []
    },
    {
      "cell_type": "code",
      "source": [
        "df2"
      ],
      "metadata": {
        "id": "_1tT17ibXgqA"
      },
      "execution_count": null,
      "outputs": []
    },
    {
      "cell_type": "code",
      "source": [
        "df3=pd.read_excel(\"/content/Historicalinvesttemp.xlsx\")"
      ],
      "metadata": {
        "id": "Aqm_rIPAXizT"
      },
      "execution_count": null,
      "outputs": []
    },
    {
      "cell_type": "code",
      "source": [
        "import numpy as np\n",
        "from queue import Queue"
      ],
      "metadata": {
        "id": "89b7vzqAXmnJ"
      },
      "execution_count": null,
      "outputs": []
    },
    {
      "cell_type": "code",
      "source": [
        "graph={\n",
        "    0:[1,2,3],\n",
        "    1:[0,2],\n",
        "    2:[0,1,3,5],\n",
        "    3:[0,2,4],\n",
        "    4:[3,5,7],\n",
        "    5:[2,4,6,7],\n",
        "    6:[5,7],\n",
        "    7:[4,5,6],\n",
        "    8:[]\n",
        "}\n",
        "print(\" the adjacency list representing the graph is:\")\n",
        "print(graph)"
      ],
      "metadata": {
        "id": "eqFG3fwCXrOC"
      },
      "execution_count": null,
      "outputs": []
    },
    {
      "cell_type": "code",
      "source": [
        "from queue import Queue"
      ],
      "metadata": {
        "id": "4lfyqUraXsxT"
      },
      "execution_count": null,
      "outputs": []
    },
    {
      "cell_type": "code",
      "source": [
        "def bfs(graph,source):\n",
        "  Q=Queue()\n",
        "  visited_vertices=set()\n",
        "  Q.put(source)\n",
        "  visited_vertices.add(source)\n",
        "  while not Q.empty():\n",
        "    vertex=Q.get()\n",
        "    print(vertex,end=\"-->\")\n",
        "    for u in graph[vertex]:\n",
        "      if u not in visited_vertices:\n",
        "        Q.put(u)\n",
        "        visited_vertices.add(u)\n",
        "print(\"BFS traversal of graph with source 0 is:\")\n",
        "bfs(graph,0)"
      ],
      "metadata": {
        "id": "p4uiqn1SXwLV"
      },
      "execution_count": null,
      "outputs": []
    },
    {
      "cell_type": "code",
      "source": [
        "graph1={\n",
        "    'A':['C','D','G','B'],\n",
        "    'B':['A'],\n",
        "    'C':['A','D','F'],\n",
        "    'D':['A','C','E','G','H'],\n",
        "    'E':['D','F','H'],\n",
        "    'F':['C','E'],\n",
        "    'G':['A','D','H'],\n",
        "    'H':['D','E','G'],\n",
        "}\n",
        "print(\"the adjacency list representing the graph is:\")\n",
        "print(graph1)"
      ],
      "metadata": {
        "id": "zhG48IQYXyHX"
      },
      "execution_count": null,
      "outputs": []
    },
    {
      "cell_type": "code",
      "source": [
        "def dfs(graph,node ,visited):\n",
        "  if node not in visited:\n",
        "    visited.append(node)\n",
        "    for k in graph[node]:\n",
        "      dfs(graph,k,visited)\n",
        "      return visited\n",
        "      visited=dfs(graph1,'B',[])"
      ],
      "metadata": {
        "id": "1F1WU6IDX01Y"
      },
      "execution_count": null,
      "outputs": []
    },
    {
      "cell_type": "code",
      "source": [
        "import numpy as np\n",
        "from queue import Queue\n",
        "import heapq"
      ],
      "metadata": {
        "id": "yZaKa294X32_"
      },
      "execution_count": null,
      "outputs": []
    },
    {
      "cell_type": "code",
      "source": [
        "def bestFirstSearch(initial_state,goal_state,evaluation_function):\n",
        "  priority_queue=[]\n",
        "  heapq.headpush(priority_queue,(evaluation_function(initial_state),initial_statement))\n",
        "\n",
        "  while priority_queue:\n",
        "    current_state+heapq.heappop(priority_queue)[1]\n",
        "    if current_state==goal_state:\n",
        "      return current_state\n",
        "      next_states=generateNextStates(current_state)\n",
        "      for next_state in next_states:\n",
        "        priority_value=evaluation_function(next_state)\n",
        "        heapq.heappush(priority_queue,(priority_value,next_stage))\n",
        "        return \"no solution found\"\n",
        "  evaluationFunction(state):\n",
        "  return abs(state[0]=goal_state[0]+)"
      ],
      "metadata": {
        "id": "SU8b8TY1X7Vw"
      },
      "execution_count": null,
      "outputs": []
    }
  ]
}