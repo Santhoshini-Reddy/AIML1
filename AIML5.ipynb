{
  "nbformat": 4,
  "nbformat_minor": 0,
  "metadata": {
    "colab": {
      "provenance": [],
      "authorship_tag": "ABX9TyOlnB/mseKmGBacc9Dl5lvX",
      "include_colab_link": true
    },
    "kernelspec": {
      "name": "python3",
      "display_name": "Python 3"
    },
    "language_info": {
      "name": "python"
    }
  },
  "cells": [
    {
      "cell_type": "markdown",
      "metadata": {
        "id": "view-in-github",
        "colab_type": "text"
      },
      "source": [
        "<a href=\"https://colab.research.google.com/github/Santhoshini-Reddy/AIML1/blob/main/AIML5.ipynb\" target=\"_parent\"><img src=\"https://colab.research.google.com/assets/colab-badge.svg\" alt=\"Open In Colab\"/></a>"
      ]
    },
    {
      "cell_type": "code",
      "execution_count": null,
      "metadata": {
        "id": "UXPvOz-XbvOf"
      },
      "outputs": [],
      "source": [
        "import pandas as pd\n",
        "import numpy as np\n",
        "import matplotlib.pyplot as plt\n",
        "import seaborn as sns"
      ]
    },
    {
      "cell_type": "code",
      "source": [
        "from google.colab import drive\n",
        "drive.mount('/content/drive')"
      ],
      "metadata": {
        "id": "NYuQfyh6cKb0"
      },
      "execution_count": null,
      "outputs": []
    },
    {
      "cell_type": "code",
      "source": [
        "file_path='/titanic_train.csv'"
      ],
      "metadata": {
        "id": "s6dPVR-BcNEn"
      },
      "execution_count": null,
      "outputs": []
    },
    {
      "cell_type": "code",
      "source": [
        "train = pd.read_csv(file_path)\n",
        "train.tail()"
      ],
      "metadata": {
        "id": "qJvYd0MDcQsw"
      },
      "execution_count": null,
      "outputs": []
    },
    {
      "cell_type": "code",
      "source": [
        "train.info(verbose=True)"
      ],
      "metadata": {
        "id": "eYAJrjhlcTCx"
      },
      "execution_count": null,
      "outputs": []
    },
    {
      "cell_type": "code",
      "source": [
        "d=train.describe()\n",
        "d"
      ],
      "metadata": {
        "id": "Yr29LIU5cWGu"
      },
      "execution_count": null,
      "outputs": []
    },
    {
      "cell_type": "code",
      "source": [
        "dT=d.T\n",
        "dT.plot.bar(y='count')\n",
        "plt.title(\"Bar plot of the count of numeric features\",fontsize=17)\n",
        "plt.show()"
      ],
      "metadata": {
        "id": "FeLJ1foqcXVo"
      },
      "execution_count": null,
      "outputs": []
    },
    {
      "cell_type": "code",
      "source": [
        "sns.set_style('whitegrid')\n",
        "sns.countplot(x='Survived',data=train,palette='RdBu_r')\n",
        "\n",
        "sns.pairplot(train)\n",
        "plt.show()"
      ],
      "metadata": {
        "id": "_VfOrNqfccuU"
      },
      "execution_count": null,
      "outputs": []
    },
    {
      "cell_type": "code",
      "source": [
        "sns.set_style('whitegrid')\n",
        "sns.countplot(x='Survived',hue='Sex',data=train,palette='RdBu_r')\n",
        "plt.show()"
      ],
      "metadata": {
        "id": "YyxyNKhhcgQ9"
      },
      "execution_count": null,
      "outputs": []
    },
    {
      "cell_type": "code",
      "source": [
        "sns.set_style('whitegrid')\n",
        "sns.countplot(x='Survived',hue='Pclass',data=train,palette='RdBu_r')\n",
        "plt.show()"
      ],
      "metadata": {
        "id": "lrB3cYC1cjOX"
      },
      "execution_count": null,
      "outputs": []
    },
    {
      "cell_type": "code",
      "source": [
        "f_class_survived=train.groupby('Pclass')['Survived'].mean()\n",
        "f_class_survived=pd.DataFrame(f_class_survived)\n",
        "f_class_survived\n",
        "f_class_survived.plot.bar(y='Survived')\n",
        "plt.title(\"Survival Rate by Passenger Class\",fontsize=17)\n",
        "plt.show()"
      ],
      "metadata": {
        "id": "JBmjTfGZcmSA"
      },
      "execution_count": null,
      "outputs": []
    },
    {
      "cell_type": "code",
      "source": [
        "sns.set_style('whitegrid')\n",
        "sns.countplot(x='Survived',hue='SibSp',data=train,palette='rainbow')\n",
        "plt.title(\"Survival Count Based on Number of Siblings/Spouses\",fontsize=17)\n",
        "plt.show()"
      ],
      "metadata": {
        "id": "UxDd73UncpQM"
      },
      "execution_count": null,
      "outputs": []
    },
    {
      "cell_type": "code",
      "source": [
        "plt.xlabel(\"Age of the passengers\",fontsize=18)\n",
        "plt.ylabel(\"Count\",fontsize=18)\n",
        "plt.title(\"Histogram of the passengers\",fontsize=22)\n",
        "train['Age'].hist()\n",
        "plt.show()"
      ],
      "metadata": {
        "id": "eIWI83ZDcr5R"
      },
      "execution_count": null,
      "outputs": []
    },
    {
      "cell_type": "code",
      "source": [
        "plt.figure(figsize=(12,10))\n",
        "plt.xlabel(\"Passenger Class\",fontsize=18)\n",
        "plt.ylabel(\"Age\",fontsize=18)\n",
        "sns.boxplot(x='Pclass',y='Age',data=train,palette='winter')"
      ],
      "metadata": {
        "id": "bBaCuvA1ctXk"
      },
      "execution_count": null,
      "outputs": []
    },
    {
      "cell_type": "code",
      "source": [
        "f_class_Age=train.groupby('Pclass')['Age'].mean()\n",
        "f_class_Age=pd.DataFrame(f_class_Age)\n",
        "f_class_Age.plot.bar(y='Age')\n",
        "plt.title(\"Average Age of  Passenger by Class\",fontsize=17)\n",
        "plt.ylabel(\"Age(years)\",fontsize=17)\n",
        "plt.xlabel(\"Passenger class\",fontsize=17)\n",
        "plt.show()"
      ],
      "metadata": {
        "id": "hUhIitJLcxuk"
      },
      "execution_count": null,
      "outputs": []
    },
    {
      "cell_type": "code",
      "source": [
        "a=list(f_class_Age['Age'])\n",
        "\n",
        "def impute_age(cols):\n",
        "  Age=cols[0]\n",
        "  Pclass=cols[1]\n",
        "  if pd.isnull(Age):\n",
        "    if Pclass==1:\n",
        "      return a[0]\n",
        "    elif Pclass==2:\n",
        "        return a[1]\n",
        "    else:\n",
        "        return a[2]\n",
        "  else:\n",
        "      return Age"
      ],
      "metadata": {
        "id": "H9LCmlkCc0Hh"
      },
      "execution_count": null,
      "outputs": []
    },
    {
      "cell_type": "code",
      "source": [
        "train['Age']=train[['Age','Pclass']].apply(impute_age,axis=1)\n",
        "d=train.describe()\n",
        "dT=d.T\n",
        "dT.plot.bar(y='count')\n",
        "plt.title(\"Bar Plot of the Count of Numeric  features\",fontsize=17)\n",
        "plt.show()"
      ],
      "metadata": {
        "id": "EjrR5PYvc3l-"
      },
      "execution_count": null,
      "outputs": []
    },
    {
      "cell_type": "code",
      "source": [
        "train.drop('Cabin',axis=1,inplace=True)\n",
        "train.dropna(inplace=True)\n",
        "train.head"
      ],
      "metadata": {
        "id": "dO6KhmvNc6vH"
      },
      "execution_count": null,
      "outputs": []
    },
    {
      "cell_type": "code",
      "source": [
        "train.drop(['PassengerId','Name','Ticket'],axis=1,inplace=True)\n",
        "train.dropna(inplace=True)\n",
        "train.head()"
      ],
      "metadata": {
        "id": "5A5Bsrt9c93-"
      },
      "execution_count": null,
      "outputs": []
    },
    {
      "cell_type": "code",
      "source": [
        "sex=pd.get_dummies(train ['Sex'],drop_first=True)\n",
        "embark=pd.get_dummies(train['Embarked'],drop_first=True)"
      ],
      "metadata": {
        "id": "bN71UuGJdAvn"
      },
      "execution_count": null,
      "outputs": []
    },
    {
      "cell_type": "code",
      "source": [
        "train.drop(['Sex','Embarked'],axis=1,inplace=True)\n",
        "train=pd.concat([train,sex,embark],axis=1)\n",
        "train.head()"
      ],
      "metadata": {
        "id": "B2jQcZZAdDI1"
      },
      "execution_count": null,
      "outputs": []
    },
    {
      "cell_type": "code",
      "source": [
        "from sklearn.model_selection import train_test_split\n",
        "X_train,X_test,y_train,y_test=train_test_split(\n",
        "    train.drop('Survived',axis=1),\n",
        "    train['Survived'],\n",
        "    test_size=0.30,\n",
        "    random_state=111\n",
        ")"
      ],
      "metadata": {
        "id": "qaq6tqpSdGnC"
      },
      "execution_count": null,
      "outputs": []
    },
    {
      "cell_type": "code",
      "source": [
        "from sklearn.linear_model import LogisticRegression\n",
        "from sklearn.metrics import classification_report\n",
        "nsimu = 201\n",
        "penalty = [0] * nsimu\n",
        "logmodel = [0] * nsimu\n",
        "predictions = [0] * nsimu\n",
        "class_report = [0] * nsimu\n",
        "f1 = [0] * nsimu\n",
        "for i in range(1, nsimu):\n",
        "  logmodel[i] = LogisticRegression(C=i/1000, tol=1e-4, max_iter=int(1e6), n_jobs =4)\n",
        "  logmodel[i].fit(X_train, y_train)\n",
        "  predictions[i] = logmodel[i].predict(X_test)\n",
        "  class_report[i] = classification_report(y_test, predictions[i])\n",
        "  l = class_report[i].split()\n",
        "  f1[i] = l[len(l)-2]\n",
        "  penalty[i] = 1000/i\n",
        "plt.scatter(penalty[1:len(penalty) - 2], f1[1:len(f1) - 2])\n",
        "plt.title(\"F1-score vs. Regularization Parameter\", fontsize=20)\n",
        "plt.xlabel(\"Penalty Parameter\", fontsize=17)\n",
        "plt.ylabel(\"F1-score on Test Data\", fontsize=17)\n",
        "plt.show()"
      ],
      "metadata": {
        "id": "3t0yP28-dJCj"
      },
      "execution_count": null,
      "outputs": []
    }
  ]
}