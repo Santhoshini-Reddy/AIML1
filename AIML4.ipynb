{
  "nbformat": 4,
  "nbformat_minor": 0,
  "metadata": {
    "colab": {
      "provenance": [],
      "authorship_tag": "ABX9TyPUv+t+rdZK68U9hjRQ77s5",
      "include_colab_link": true
    },
    "kernelspec": {
      "name": "python3",
      "display_name": "Python 3"
    },
    "language_info": {
      "name": "python"
    }
  },
  "cells": [
    {
      "cell_type": "markdown",
      "metadata": {
        "id": "view-in-github",
        "colab_type": "text"
      },
      "source": [
        "<a href=\"https://colab.research.google.com/github/Santhoshini-Reddy/AIML1/blob/main/AIML4.ipynb\" target=\"_parent\"><img src=\"https://colab.research.google.com/assets/colab-badge.svg\" alt=\"Open In Colab\"/></a>"
      ]
    },
    {
      "cell_type": "code",
      "execution_count": null,
      "metadata": {
        "id": "EBQWAoP1ZMay"
      },
      "outputs": [],
      "source": [
        "import numpy as np\n",
        "import pandas as pd\n",
        "import matplotlib.pyplot as plt\n",
        "import seaborn as sns"
      ]
    },
    {
      "cell_type": "code",
      "source": [
        "from google.colab import drive\n",
        "drive.mount('/content/drive')"
      ],
      "metadata": {
        "id": "xoOYb8o2ZeHf"
      },
      "execution_count": null,
      "outputs": []
    },
    {
      "cell_type": "code",
      "source": [
        "file_path = '/USA_Housing.csv'"
      ],
      "metadata": {
        "id": "FOwK3z2VZhkj"
      },
      "execution_count": null,
      "outputs": []
    },
    {
      "cell_type": "code",
      "source": [
        "df = pd.read_csv(file_path)\n",
        "df.head()"
      ],
      "metadata": {
        "id": "_W893OCRZtvh"
      },
      "execution_count": null,
      "outputs": []
    },
    {
      "cell_type": "code",
      "source": [
        "df.info(verbose=True)"
      ],
      "metadata": {
        "id": "SP3R2TyIZx_d"
      },
      "execution_count": null,
      "outputs": []
    },
    {
      "cell_type": "code",
      "source": [
        "df .describe(percentiles=[0.1,0.25,0.5,0.75,0.9])"
      ],
      "metadata": {
        "id": "plE7F8qdZx0S"
      },
      "execution_count": null,
      "outputs": []
    },
    {
      "cell_type": "code",
      "source": [
        "df.columns"
      ],
      "metadata": {
        "id": "Ne3nka_VZ3W2"
      },
      "execution_count": null,
      "outputs": []
    },
    {
      "cell_type": "code",
      "source": [
        "sns.pairplot(df)"
      ],
      "metadata": {
        "id": "U7Up8OV-Z6G9"
      },
      "execution_count": null,
      "outputs": []
    },
    {
      "cell_type": "code",
      "source": [
        "df['Price'].plot.hist(bins=25,figsize=(8,4))"
      ],
      "metadata": {
        "id": "GNtJQ1sTZ9Gs"
      },
      "execution_count": null,
      "outputs": []
    },
    {
      "cell_type": "code",
      "source": [
        "df['Price'].plot.density()"
      ],
      "metadata": {
        "id": "TEq9MOtYaB1t"
      },
      "execution_count": null,
      "outputs": []
    },
    {
      "cell_type": "code",
      "source": [
        "df_cleaned=df.drop(columns=['Address'])"
      ],
      "metadata": {
        "id": "aLVFpzjFaCo-"
      },
      "execution_count": null,
      "outputs": []
    },
    {
      "cell_type": "code",
      "source": [
        "df_cleaned.corr()"
      ],
      "metadata": {
        "id": "GO1SoxY3aGPS"
      },
      "execution_count": null,
      "outputs": []
    },
    {
      "cell_type": "code",
      "source": [
        "plt.figure(figsize=(10,7))\n",
        "sns.heatmap(df_cleaned.corr(),annot=True,linewidths=2)"
      ],
      "metadata": {
        "id": "iWzUFtObaMFp"
      },
      "execution_count": null,
      "outputs": []
    },
    {
      "cell_type": "code",
      "source": [
        "l_column = list(df.columns)\n",
        "len_feature= len(l_column)\n",
        "l_column"
      ],
      "metadata": {
        "id": "uYg5AdSBaO1P"
      },
      "execution_count": null,
      "outputs": []
    },
    {
      "cell_type": "code",
      "source": [
        "x=df[l_column[0:len_feature-2]]\n",
        "y=df[l_column[len_feature-2]]"
      ],
      "metadata": {
        "id": "r5eXI9IkaYLY"
      },
      "execution_count": null,
      "outputs": []
    },
    {
      "cell_type": "code",
      "source": [
        "print(\"Feature set size:\",x.shape)\n",
        "print(\"Variable set size:\",y.shape)"
      ],
      "metadata": {
        "id": "Pe5BYcyUaZFN"
      },
      "execution_count": null,
      "outputs": []
    },
    {
      "cell_type": "code",
      "source": [
        "x.head()"
      ],
      "metadata": {
        "id": "_1dIWfbJadGW"
      },
      "execution_count": null,
      "outputs": []
    },
    {
      "cell_type": "code",
      "source": [
        "from sklearn.model_selection import train_test_split"
      ],
      "metadata": {
        "id": "a2y3IwidagpQ"
      },
      "execution_count": null,
      "outputs": []
    },
    {
      "cell_type": "code",
      "source": [
        "print(\"Training feature set size:\",x_train.shape)\n",
        "print(\"Test Feature set size:\",x_test.shape)\n",
        "print(\"Training variable set size:\",y_train.shape)\n",
        "print(\"Test variable set size:\",y_test.shape)"
      ],
      "metadata": {
        "id": "zFJPFD0nalBD"
      },
      "execution_count": null,
      "outputs": []
    },
    {
      "cell_type": "code",
      "source": [
        "from sklearn.linear_model import LinearRegression\n",
        "from sklearn import metrics"
      ],
      "metadata": {
        "id": "a2CJ9Q8zarNB"
      },
      "execution_count": null,
      "outputs": []
    },
    {
      "cell_type": "code",
      "source": [
        "lm=LinearRegression()\n",
        "\n",
        "\n",
        "lm.fit(x_train,y_train)"
      ],
      "metadata": {
        "id": "pOQ3MqFJavgq"
      },
      "execution_count": null,
      "outputs": []
    },
    {
      "cell_type": "code",
      "source": [
        "print(\"The intercept term of the linear model:\",lm.intercept_)"
      ],
      "metadata": {
        "id": "XlZF89x_awnh"
      },
      "execution_count": null,
      "outputs": []
    },
    {
      "cell_type": "code",
      "source": [
        "print(\"The coefficients of the linear model:\",lm.coef_)"
      ],
      "metadata": {
        "id": "4OlXfdmca3SP"
      },
      "execution_count": null,
      "outputs": []
    },
    {
      "cell_type": "code",
      "source": [
        "cdf = pd.DataFrame(data=lm.coef_,index=x_train.columns,columns=[\"Coefficients\"])\n",
        "cdf"
      ],
      "metadata": {
        "id": "UtPVQigLa6q_"
      },
      "execution_count": null,
      "outputs": []
    },
    {
      "cell_type": "code",
      "source": [
        "n = x_train.shape[0]\n",
        "k = x_train.shape[1]\n",
        "dfN = n - k\n",
        "\n",
        "train_pred = lm.predict(x_train)\n",
        "train_error = np.square(train_pred - y_train)\n",
        "sum_error = np.sum(train_error)\n",
        "\n",
        "se = [0,0,0,0,0]\n",
        "\n",
        "for i in range(k):\n",
        "  r = (sum_error / dfN)\n",
        "  r = r / np.sum(np.square(x_train[list(x_train.columns)[i]] - x_train[list(x_train.columns)[i]].mean()))\n",
        "  se[i] = np.sqrt(r)\n",
        "\n",
        "cdf['Standard Error'] = se\n",
        "cdf['t-Statistic'] = cdf['Coefficients'] / cdf['Standard Error']\n",
        "cdf"
      ],
      "metadata": {
        "id": "ePWC0xQia9IW"
      },
      "execution_count": null,
      "outputs": []
    },
    {
      "cell_type": "code",
      "source": [
        "n = x_train.shape[0]\n",
        "k = x_train.shape[1]\n",
        "dfN = n - k\n",
        "\n",
        "train_pred = lm.predict(x_train)\n",
        "train_error = np.square(train_pred - y_train)\n",
        "sum_error = np.sum(train_error)\n",
        "\n",
        "se = [0,0,0,0,0]\n",
        "\n",
        "for i in range(k):\n",
        "  r = (sum_error / dfN)\n",
        "  r = r / np.sum(np.square(x_train[list(x_train.columns)[i]] - x_train[list(x_train.columns)[i]].mean()))\n",
        "  se[i] = np.sqrt(r)\n",
        "\n",
        "cdf['Standard Error'] = se\n",
        "cdf['t-Statistic'] = cdf['Coefficients'] / cdf['Standard Error']\n",
        "cdf"
      ],
      "metadata": {
        "id": "RHnBbwkubAFv"
      },
      "execution_count": null,
      "outputs": []
    },
    {
      "cell_type": "code",
      "source": [
        "print(\"Therefore,features arranged in the order of importance for predicting the house price\\n\",'-'*90,sep='')\n",
        "l=list (cdf.sort_values('t-statistic',ascending=False).index)\n",
        "\n",
        "\n",
        "print(' > \\n'.join(l))"
      ],
      "metadata": {
        "id": "YaQHStCCbCoB"
      },
      "execution_count": null,
      "outputs": []
    },
    {
      "cell_type": "code",
      "source": [
        "l=list(cdf.index)\n",
        "\n",
        "from matplotlib import gridspec\n",
        "fig= plt.figure(figsize=(18,10))\n",
        "gs=gridspec.GridSpec(2,3)\n",
        "\n",
        "ax0=plt.subplot(gs[0])\n",
        "ax0.scatter(df[l[0]],df['Price'])\n",
        "ax0.set_title(l[0] + \"vs.Price\",fontdict={'fontsize':20})\n",
        "\n",
        "ax1=plt.subplot(gs[1])\n",
        "ax1.scatter(df[l[1]],df['Price'])\n",
        "ax1.set_title(l[1]+\"vs.price\",fontdict={'fontsize':20})\n",
        "\n",
        "ax2=plt.subplot(gs[2])\n",
        "ax2.scatter(df[l[2]],df['Price'])\n",
        "ax2.set_title(l[2]+\"vs.price\",fontdict={'fontsize':20})\n",
        "\n",
        "\n",
        "ax3=plt.subplot(gs[3])\n",
        "ax3.scatter(df[l[3]],df['Price'])\n",
        "ax3.set_title(l[3]+\"vs.price\",fontdict={'fontsize':20})"
      ],
      "metadata": {
        "id": "uYjQw4sgbGjc"
      },
      "execution_count": null,
      "outputs": []
    },
    {
      "cell_type": "code",
      "source": [
        "rint(\"R-squared value of this fit:\",round(metrics.r2_score(y_train,train_pred),3))"
      ],
      "metadata": {
        "id": "9z7HRghPbHyX"
      },
      "execution_count": null,
      "outputs": []
    },
    {
      "cell_type": "code",
      "source": [
        "predictions=lm.predict(x_test)\n",
        "print(\"Type of the predicted object:\",type(predictions))\n",
        "\n",
        "print(\"size of the predicted object:\",predictions.shape)"
      ],
      "metadata": {
        "id": "wG-mBY-9bMsl"
      },
      "execution_count": null,
      "outputs": []
    },
    {
      "cell_type": "code",
      "source": [
        "plt.figure(figsize=(10,7))\n",
        "plt.title(\"Actual vs.predicted house prices\",fontsize=25)\n",
        "plt.xlabel(\"Actual test set house prices\",fontsize=25)\n",
        "plt.ylabel(\"predicted house prices\",fontsize=18)\n",
        "plt.scatter (x=y_test,y=predictions)"
      ],
      "metadata": {
        "id": "mYbhlFiHbUwI"
      },
      "execution_count": null,
      "outputs": []
    },
    {
      "cell_type": "code",
      "source": [
        "plt.figure (figsize=(10,7))\n",
        "plt.title(\"Histogram of residuals to check for normality\",fontsize=25)\n",
        "plt.xlabel(\"Residuals\",fontsize=18)\n",
        "plt.ylabel(\"kernel density\",fontsize=18)\n",
        "sns.histplot([y_test - predictions],kde=True)"
      ],
      "metadata": {
        "id": "l2mmI2RZbWFE"
      },
      "execution_count": null,
      "outputs": []
    },
    {
      "cell_type": "code",
      "source": [],
      "metadata": {
        "id": "v2s-jajwbaHf"
      },
      "execution_count": null,
      "outputs": []
    }
  ]
}