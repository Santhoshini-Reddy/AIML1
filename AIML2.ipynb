{
  "nbformat": 4,
  "nbformat_minor": 0,
  "metadata": {
    "colab": {
      "provenance": [],
      "authorship_tag": "ABX9TyN8QvNcvOzCpa3VGWiEEIhy",
      "include_colab_link": true
    },
    "kernelspec": {
      "name": "python3",
      "display_name": "Python 3"
    },
    "language_info": {
      "name": "python"
    }
  },
  "cells": [
    {
      "cell_type": "markdown",
      "metadata": {
        "id": "view-in-github",
        "colab_type": "text"
      },
      "source": [
        "<a href=\"https://colab.research.google.com/github/Santhoshini-Reddy/AIML1/blob/main/AIML2.ipynb\" target=\"_parent\"><img src=\"https://colab.research.google.com/assets/colab-badge.svg\" alt=\"Open In Colab\"/></a>"
      ]
    },
    {
      "cell_type": "code",
      "execution_count": null,
      "metadata": {
        "id": "0vMYggYWYE3z"
      },
      "outputs": [],
      "source": [
        "from copy import deepcopy\n",
        "import numpy as np\n",
        "import time"
      ]
    },
    {
      "cell_type": "code",
      "source": [
        "def bestsolution(state):\n",
        "  bestsol=np.array([],int).reshape(-1,9)\n",
        "  count =len(state) - 1\n",
        "  while count !=-1:\n",
        "    bestsol=np.insert(bestsol,0,state[count]['puzzle'],0)\n",
        "    count=state[count]['parent']\n",
        "    return bestsol.reshape(-1,3,3)"
      ],
      "metadata": {
        "id": "hm_Qz0qaYIxF"
      },
      "execution_count": null,
      "outputs": []
    },
    {
      "cell_type": "code",
      "source": [
        "def all(checkarray):\n",
        "  set=[]\n",
        "\n",
        "  for it in set:\n",
        "    for checkarray in it:\n",
        "      return 1\n",
        "    else:\n",
        "      return 0"
      ],
      "metadata": {
        "id": "N_SHZQ62YKy7"
      },
      "execution_count": null,
      "outputs": []
    },
    {
      "cell_type": "code",
      "source": [
        "def misplaced_titles(puzzle,goal):\n",
        "  mscost = np.sum(puzzle != goal)\n",
        "  return mscost if mscost > 0 else 0"
      ],
      "metadata": {
        "id": "Hxlldb_4YOD_"
      },
      "execution_count": null,
      "outputs": []
    },
    {
      "cell_type": "code",
      "source": [
        "def coordinates(puzzle):\n",
        "  pos = np.array(range[9])\n",
        "  for p,q in enumeratic(puzzle):\n",
        "    pos[q]=p\n",
        "    return pos"
      ],
      "metadata": {
        "id": "uHRI1mwpYQ5l"
      },
      "execution_count": null,
      "outputs": []
    },
    {
      "cell_type": "code",
      "source": [
        "def evaluate_misplaced(puzzle,goal):\n",
        "  steps=np.array([\n",
        "      ('up',[0,1,2],-3),\n",
        "      ('down',[6,7,8],3),\n",
        "      ('left',[0,3,6],-1),\n",
        "      ('right',[2,5,8],1)\n",
        "  ],dtype=[('move',str,1),('position',list),('head',int)])\n",
        "  dtstate=[('puzzle',list),('parent',int),('gn',int),('hn',int)]\n",
        "  costg = coordinates(goal)\n",
        "  parent=-1\n",
        "  gn=0\n",
        "  hn=misplaced_tiles(coordinates(puzzle),costg)\n",
        "  state = np.array([(puzzle,parent,gn,hn)],distance)\n",
        "  dtpriority=[('position',int),('fn',int)]\n",
        "  priority=np.array([(0,hn)],dtpriority)"
      ],
      "metadata": {
        "id": "lj82ZuoDYUux"
      },
      "execution_count": null,
      "outputs": []
    },
    {
      "cell_type": "code",
      "source": [
        "def evaluvate_misplaced(puzzle, goal):\n",
        "      steps = np.array([\n",
        "        ('up', [0, 1, 2], -3),\n",
        "        ('down', [6, 7, 8],  3),\n",
        "        ('left', [0, 3, 6], -1),\n",
        "        ('right', [2, 5, 8],  1)\n",
        "    ], dtype=[('move', str, 1), ('position', list), ('head', int)])\n",
        "      dtstate = [('puzzle', list), ('parent', int), ('gn', int), ('hn', int)]\n",
        "      costg = coordinates(goal)\n",
        "      parent = -1\n",
        "      gn = 0\n",
        "      hn = misplaced_tiles(coordinates(puzzle), costg)\n",
        "      state = np.array([(puzzle, parent, gn, hn)], dtstate)\n",
        "      dtpriority = [('position', int), ('fn', int)]\n",
        "      priority = np.array([(0, hn)], dtpriority)\n",
        "      while True:\n",
        "        priority = np.sort(priority, kind='mergesort', order=['fn', 'position'])\n",
        "        position, fn = priority[0]\n",
        "        priority = np.delete(priority, 0, 0)\n",
        "        puzzle, parent, gn, hn = state[position]\n",
        "        puzzle = np.array(puzzle)\n",
        "        blank = int(np.where(puzzle == 0)[0])\n",
        "        gn = gn + 1\n",
        "        c = 1\n",
        "        start_time = time.time()\n",
        "        for s in steps:\n",
        "            c = c + 1\n",
        "            if blank not in s['position']:\n",
        "\n",
        "                openstates = deepcopy(puzzle)\n",
        "                openstates[blank], openstates[blank + s['head']] = openstates[blank + s['head']], openstates[blank]\n",
        "\n",
        "\n",
        "                if not (np.all(list(state['puzzle']) == openstates, 1)).any():\n",
        "                    end_time = time.time()\n",
        "                    if (end_time - start_time) > 2:\n",
        "                        print(\"The 8-puzzle is unsolvable\\n\")\n",
        "                        break\n",
        "                    hn = misplaced_tiles(coordinates(openstates), costg)\n",
        "                    q = np.array([(openstates, position, gn, hn)], dtstate)\n",
        "                    state = np.append(state, q, 0)\n",
        "                    fn = gn + hn\n",
        "                    q = np.array([(len(state) - 1, fn)], dtpriority)\n",
        "                    priority = np.append(priority, q, 0)\n",
        "                    if np.array_equal(openstates, goal):\n",
        "                        print('The 8-puzzle is solvable\\n')\n",
        "                        return state,len(priority)"
      ],
      "metadata": {
        "id": "imIoZ4lJYVzz"
      },
      "execution_count": null,
      "outputs": []
    },
    {
      "cell_type": "code",
      "source": [
        "puzzle=[]\n",
        "\n",
        "puzzle.append (2)\n",
        "\n",
        "puzzle.append (8)\n",
        "\n",
        "puzzle.append (3)\n",
        "\n",
        "puzzle.append (1)\n",
        "\n",
        "puzzle.append (6)\n",
        "\n",
        "puzzle.append (4)\n",
        "\n",
        "puzzle.append (7)\n",
        "\n",
        "puzzle.append (0)\n",
        "\n",
        "puzzle.append (5)\n",
        "\n",
        "\n",
        "\n",
        "goal=[]\n",
        "goal.append (1)\n",
        "goal.append (2)\n",
        "goal.append (3)\n",
        "goal.append (8)\n",
        "goal.append (0)\n",
        "goal.append (4)\n",
        "goal.append (7)\n",
        "goal.append (6)\n",
        "goal.append (5)\n",
        "state, visited = evaluvate_misplaced (puzzle, goal)\n",
        "bestpath=bestsolution(state)\n",
        "print(str (bestpath).replace('[', ' ').replace(\"[\", ' ').replace(']',' '))\n",
        "\n",
        "totalmoves=len (bestpath) -1\n",
        "print(\"\\nSteps to reach goal state :\", totalmoves)\n",
        "Visit=len(state)-visited\n",
        "print('Total nodes visted :', Visit, \"\\n\")"
      ],
      "metadata": {
        "id": "nWUKZEfAYbvH"
      },
      "execution_count": null,
      "outputs": []
    }
  ]
}